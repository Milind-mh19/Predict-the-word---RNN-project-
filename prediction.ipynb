{
 "cells": [
  {
   "cell_type": "code",
   "execution_count": 1,
   "metadata": {},
   "outputs": [],
   "source": [
    "import numpy as np\n",
    "import tensorflow as tf \n",
    "from  tensorflow.keras.datasets import imdb\n",
    "from tensorflow.keras.preprocessing import sequence\n",
    "from tensorflow.keras.models import load_model\n"
   ]
  },
  {
   "cell_type": "code",
   "execution_count": 2,
   "metadata": {},
   "outputs": [],
   "source": [
    "## load the imdb dataset word index \n",
    "word_index=imdb.get_word_index()\n",
    "revese_word_index = {value:key for key , value in word_index.items()}"
   ]
  },
  {
   "cell_type": "code",
   "execution_count": 4,
   "metadata": {},
   "outputs": [
    {
     "name": "stderr",
     "output_type": "stream",
     "text": [
      "WARNING:absl:Compiled the loaded model, but the compiled metrics have yet to be built. `model.compile_metrics` will be empty until you train or evaluate the model.\n"
     ]
    },
    {
     "data": {
      "text/html": [
       "<pre style=\"white-space:pre;overflow-x:auto;line-height:normal;font-family:Menlo,'DejaVu Sans Mono',consolas,'Courier New',monospace\"><span style=\"font-weight: bold\">Model: \"sequential\"</span>\n",
       "</pre>\n"
      ],
      "text/plain": [
       "\u001b[1mModel: \"sequential\"\u001b[0m\n"
      ]
     },
     "metadata": {},
     "output_type": "display_data"
    },
    {
     "data": {
      "text/html": [
       "<pre style=\"white-space:pre;overflow-x:auto;line-height:normal;font-family:Menlo,'DejaVu Sans Mono',consolas,'Courier New',monospace\">┏━━━━━━━━━━━━━━━━━━━━━━━━━━━━━━━━━┳━━━━━━━━━━━━━━━━━━━━━━━━┳━━━━━━━━━━━━━━━┓\n",
       "┃<span style=\"font-weight: bold\"> Layer (type)                    </span>┃<span style=\"font-weight: bold\"> Output Shape           </span>┃<span style=\"font-weight: bold\">       Param # </span>┃\n",
       "┡━━━━━━━━━━━━━━━━━━━━━━━━━━━━━━━━━╇━━━━━━━━━━━━━━━━━━━━━━━━╇━━━━━━━━━━━━━━━┩\n",
       "│ embedding (<span style=\"color: #0087ff; text-decoration-color: #0087ff\">Embedding</span>)           │ (<span style=\"color: #00d7ff; text-decoration-color: #00d7ff\">None</span>, <span style=\"color: #00af00; text-decoration-color: #00af00\">500</span>, <span style=\"color: #00af00; text-decoration-color: #00af00\">128</span>)       │     <span style=\"color: #00af00; text-decoration-color: #00af00\">1,280,000</span> │\n",
       "├─────────────────────────────────┼────────────────────────┼───────────────┤\n",
       "│ simple_rnn (<span style=\"color: #0087ff; text-decoration-color: #0087ff\">SimpleRNN</span>)          │ (<span style=\"color: #00d7ff; text-decoration-color: #00d7ff\">None</span>, <span style=\"color: #00af00; text-decoration-color: #00af00\">128</span>)            │        <span style=\"color: #00af00; text-decoration-color: #00af00\">32,896</span> │\n",
       "├─────────────────────────────────┼────────────────────────┼───────────────┤\n",
       "│ dense (<span style=\"color: #0087ff; text-decoration-color: #0087ff\">Dense</span>)                   │ (<span style=\"color: #00d7ff; text-decoration-color: #00d7ff\">None</span>, <span style=\"color: #00af00; text-decoration-color: #00af00\">1</span>)              │           <span style=\"color: #00af00; text-decoration-color: #00af00\">129</span> │\n",
       "└─────────────────────────────────┴────────────────────────┴───────────────┘\n",
       "</pre>\n"
      ],
      "text/plain": [
       "┏━━━━━━━━━━━━━━━━━━━━━━━━━━━━━━━━━┳━━━━━━━━━━━━━━━━━━━━━━━━┳━━━━━━━━━━━━━━━┓\n",
       "┃\u001b[1m \u001b[0m\u001b[1mLayer (type)                   \u001b[0m\u001b[1m \u001b[0m┃\u001b[1m \u001b[0m\u001b[1mOutput Shape          \u001b[0m\u001b[1m \u001b[0m┃\u001b[1m \u001b[0m\u001b[1m      Param #\u001b[0m\u001b[1m \u001b[0m┃\n",
       "┡━━━━━━━━━━━━━━━━━━━━━━━━━━━━━━━━━╇━━━━━━━━━━━━━━━━━━━━━━━━╇━━━━━━━━━━━━━━━┩\n",
       "│ embedding (\u001b[38;5;33mEmbedding\u001b[0m)           │ (\u001b[38;5;45mNone\u001b[0m, \u001b[38;5;34m500\u001b[0m, \u001b[38;5;34m128\u001b[0m)       │     \u001b[38;5;34m1,280,000\u001b[0m │\n",
       "├─────────────────────────────────┼────────────────────────┼───────────────┤\n",
       "│ simple_rnn (\u001b[38;5;33mSimpleRNN\u001b[0m)          │ (\u001b[38;5;45mNone\u001b[0m, \u001b[38;5;34m128\u001b[0m)            │        \u001b[38;5;34m32,896\u001b[0m │\n",
       "├─────────────────────────────────┼────────────────────────┼───────────────┤\n",
       "│ dense (\u001b[38;5;33mDense\u001b[0m)                   │ (\u001b[38;5;45mNone\u001b[0m, \u001b[38;5;34m1\u001b[0m)              │           \u001b[38;5;34m129\u001b[0m │\n",
       "└─────────────────────────────────┴────────────────────────┴───────────────┘\n"
      ]
     },
     "metadata": {},
     "output_type": "display_data"
    },
    {
     "data": {
      "text/html": [
       "<pre style=\"white-space:pre;overflow-x:auto;line-height:normal;font-family:Menlo,'DejaVu Sans Mono',consolas,'Courier New',monospace\"><span style=\"font-weight: bold\"> Total params: </span><span style=\"color: #00af00; text-decoration-color: #00af00\">1,313,027</span> (5.01 MB)\n",
       "</pre>\n"
      ],
      "text/plain": [
       "\u001b[1m Total params: \u001b[0m\u001b[38;5;34m1,313,027\u001b[0m (5.01 MB)\n"
      ]
     },
     "metadata": {},
     "output_type": "display_data"
    },
    {
     "data": {
      "text/html": [
       "<pre style=\"white-space:pre;overflow-x:auto;line-height:normal;font-family:Menlo,'DejaVu Sans Mono',consolas,'Courier New',monospace\"><span style=\"font-weight: bold\"> Trainable params: </span><span style=\"color: #00af00; text-decoration-color: #00af00\">1,313,025</span> (5.01 MB)\n",
       "</pre>\n"
      ],
      "text/plain": [
       "\u001b[1m Trainable params: \u001b[0m\u001b[38;5;34m1,313,025\u001b[0m (5.01 MB)\n"
      ]
     },
     "metadata": {},
     "output_type": "display_data"
    },
    {
     "data": {
      "text/html": [
       "<pre style=\"white-space:pre;overflow-x:auto;line-height:normal;font-family:Menlo,'DejaVu Sans Mono',consolas,'Courier New',monospace\"><span style=\"font-weight: bold\"> Non-trainable params: </span><span style=\"color: #00af00; text-decoration-color: #00af00\">0</span> (0.00 B)\n",
       "</pre>\n"
      ],
      "text/plain": [
       "\u001b[1m Non-trainable params: \u001b[0m\u001b[38;5;34m0\u001b[0m (0.00 B)\n"
      ]
     },
     "metadata": {},
     "output_type": "display_data"
    },
    {
     "data": {
      "text/html": [
       "<pre style=\"white-space:pre;overflow-x:auto;line-height:normal;font-family:Menlo,'DejaVu Sans Mono',consolas,'Courier New',monospace\"><span style=\"font-weight: bold\"> Optimizer params: </span><span style=\"color: #00af00; text-decoration-color: #00af00\">2</span> (12.00 B)\n",
       "</pre>\n"
      ],
      "text/plain": [
       "\u001b[1m Optimizer params: \u001b[0m\u001b[38;5;34m2\u001b[0m (12.00 B)\n"
      ]
     },
     "metadata": {},
     "output_type": "display_data"
    }
   ],
   "source": [
    "## load the pre-trained model with ReLu activation \n",
    "model = load_model('simple_rnn_imdb.h5')\n",
    "model.summary()"
   ]
  },
  {
   "cell_type": "code",
   "execution_count": 5,
   "metadata": {},
   "outputs": [
    {
     "data": {
      "text/plain": [
       "[array([[ 0.24953519, -0.17842448, -0.45770684, ..., -0.4154368 ,\n",
       "          0.40282163, -0.2321627 ],\n",
       "        [ 0.00731383, -0.01378442,  0.00535394, ...,  0.04904776,\n",
       "         -0.01432867, -0.04097544],\n",
       "        [ 0.07026167, -0.0530068 , -0.10420167, ..., -0.09174079,\n",
       "         -0.04779132, -0.03987019],\n",
       "        ...,\n",
       "        [-0.02478265, -0.02349476,  0.07652507, ...,  0.05585518,\n",
       "          0.00382244,  0.00539978],\n",
       "        [ 0.01409799, -0.01334286,  0.04919464, ..., -0.06835249,\n",
       "          0.03207919,  0.01198822],\n",
       "        [-0.02177479,  0.0035716 ,  0.00116327, ..., -0.01410758,\n",
       "         -0.04276467,  0.01543894]], dtype=float32),\n",
       " array([[-0.03140946, -0.00305296, -0.12150818, ...,  0.05474557,\n",
       "          0.1283772 , -0.08428135],\n",
       "        [-0.03496721,  0.19376399,  0.14364703, ...,  0.01767224,\n",
       "          0.03780416,  0.12540282],\n",
       "        [ 0.17171355, -0.09985418, -0.00599033, ...,  0.14400259,\n",
       "         -0.09579454,  0.13144574],\n",
       "        ...,\n",
       "        [ 0.03340279,  0.10677641, -0.01586821, ...,  0.12635703,\n",
       "          0.11064943,  0.02494933],\n",
       "        [-0.04230968,  0.19373398,  0.01886534, ...,  0.05473046,\n",
       "         -0.03519626,  0.08526023],\n",
       "        [ 0.05130494,  0.14126706,  0.08551677, ...,  0.12912773,\n",
       "         -0.10601807,  0.09300198]], dtype=float32),\n",
       " array([[-0.10990813,  0.09852073,  0.11772165, ...,  0.0525969 ,\n",
       "         -0.1250315 , -0.02927338],\n",
       "        [-0.22040376,  0.04548251,  0.17654218, ...,  0.01090917,\n",
       "          0.10893733,  0.11025987],\n",
       "        [-0.05913344,  0.10589075,  0.1222053 , ...,  0.03643326,\n",
       "         -0.02556639, -0.05478429],\n",
       "        ...,\n",
       "        [-0.07497823, -0.0096559 ,  0.11574757, ..., -0.09609961,\n",
       "          0.04205959, -0.0827419 ],\n",
       "        [ 0.04836522, -0.08737265,  0.00134528, ...,  0.07636926,\n",
       "          0.04264329,  0.01553047],\n",
       "        [ 0.0553673 ,  0.05775113,  0.13138582, ...,  0.165769  ,\n",
       "         -0.10448612,  0.2527141 ]], dtype=float32),\n",
       " array([-0.02778826,  0.01976654,  0.03110295, -0.0436567 , -0.04215488,\n",
       "        -0.03922942, -0.04225842, -0.01873994,  0.02031072, -0.0303095 ,\n",
       "        -0.04982974, -0.03138458, -0.00063646, -0.02364847,  0.00476913,\n",
       "         0.03731082,  0.02585072, -0.03106852,  0.00976713, -0.04643302,\n",
       "         0.01045167, -0.02336024,  0.02603207,  0.04603188, -0.01534485,\n",
       "        -0.03048586, -0.02836649, -0.03050885,  0.04358546,  0.04502574,\n",
       "        -0.03316066, -0.02526953, -0.04786586, -0.0348323 , -0.03881867,\n",
       "        -0.02819567, -0.01203306, -0.03628907, -0.02064766,  0.02734713,\n",
       "        -0.02919455, -0.05649483,  0.03959424,  0.04071683,  0.0047134 ,\n",
       "        -0.00956275, -0.01091441,  0.00548416, -0.02760445, -0.06493766,\n",
       "        -0.04967887, -0.02849631, -0.01756689, -0.03075266,  0.03818962,\n",
       "        -0.06527567, -0.03286874,  0.02232641, -0.03592847, -0.03560208,\n",
       "        -0.02583426,  0.0373652 , -0.00816322, -0.01129558, -0.04062925,\n",
       "         0.03826478, -0.0416062 , -0.03115222,  0.03740417, -0.00638208,\n",
       "         0.00135526, -0.01631374, -0.0237718 , -0.04315557, -0.03375655,\n",
       "        -0.03989029,  0.02926801,  0.00197598, -0.03026309, -0.013704  ,\n",
       "        -0.01418558, -0.03562879, -0.03311819, -0.05433031,  0.00159636,\n",
       "         0.03773712, -0.0344739 ,  0.03913   , -0.02748768, -0.00569752,\n",
       "        -0.03277768, -0.0189218 ,  0.00613793, -0.05331789,  0.03886618,\n",
       "        -0.01752166,  0.00090081, -0.02774764, -0.05418916,  0.06138954,\n",
       "        -0.01431161,  0.03358698, -0.00296265, -0.01734211,  0.02288406,\n",
       "         0.00026152, -0.01012439, -0.01612941,  0.00808042, -0.04614117,\n",
       "        -0.08292551, -0.01164671,  0.03551652,  0.03070191, -0.04272464,\n",
       "        -0.03586366, -0.01229396, -0.02908921,  0.00306778,  0.02894451,\n",
       "        -0.05752743, -0.0008922 ,  0.01996919,  0.01974766, -0.02919423,\n",
       "        -0.00849837, -0.04607928, -0.02472657], dtype=float32),\n",
       " array([[ 0.11604112],\n",
       "        [-0.2111209 ],\n",
       "        [-0.24290183],\n",
       "        [ 0.02898002],\n",
       "        [-0.03989255],\n",
       "        [-0.12043463],\n",
       "        [-0.24827783],\n",
       "        [ 0.21325918],\n",
       "        [-0.23836169],\n",
       "        [-0.2636118 ],\n",
       "        [-0.03559668],\n",
       "        [ 0.13373552],\n",
       "        [ 0.0320066 ],\n",
       "        [-0.15982401],\n",
       "        [-0.12625127],\n",
       "        [-0.27818412],\n",
       "        [-0.10231128],\n",
       "        [-0.24573767],\n",
       "        [-0.11328707],\n",
       "        [ 0.16342692],\n",
       "        [ 0.354507  ],\n",
       "        [-0.16884136],\n",
       "        [-0.06925226],\n",
       "        [-0.33065525],\n",
       "        [ 0.25174662],\n",
       "        [-0.1881291 ],\n",
       "        [-0.23802207],\n",
       "        [ 0.11212558],\n",
       "        [ 0.11399655],\n",
       "        [ 0.1807058 ],\n",
       "        [-0.21178545],\n",
       "        [ 0.14813372],\n",
       "        [ 0.16220477],\n",
       "        [-0.06314921],\n",
       "        [-0.00350478],\n",
       "        [ 0.070679  ],\n",
       "        [ 0.14821224],\n",
       "        [ 0.04051195],\n",
       "        [-0.3049829 ],\n",
       "        [ 0.04273707],\n",
       "        [ 0.1466956 ],\n",
       "        [ 0.21952349],\n",
       "        [ 0.01045567],\n",
       "        [ 0.08100595],\n",
       "        [-0.11620735],\n",
       "        [ 0.09255273],\n",
       "        [ 0.11352085],\n",
       "        [-0.23188862],\n",
       "        [ 0.19707322],\n",
       "        [ 0.11551713],\n",
       "        [-0.1272304 ],\n",
       "        [-0.00665446],\n",
       "        [ 0.19917642],\n",
       "        [-0.16963285],\n",
       "        [-0.02991769],\n",
       "        [ 0.09042051],\n",
       "        [-0.16167393],\n",
       "        [-0.00124969],\n",
       "        [-0.19575101],\n",
       "        [ 0.4071014 ],\n",
       "        [-0.02860176],\n",
       "        [ 0.04341538],\n",
       "        [-0.28713512],\n",
       "        [ 0.01288085],\n",
       "        [-0.16633344],\n",
       "        [ 0.2971797 ],\n",
       "        [-0.13227184],\n",
       "        [ 0.26081324],\n",
       "        [ 0.39465484],\n",
       "        [-0.46684673],\n",
       "        [-0.29932415],\n",
       "        [ 0.26765597],\n",
       "        [-0.24871862],\n",
       "        [ 0.18018137],\n",
       "        [-0.15462996],\n",
       "        [-0.12756383],\n",
       "        [-0.27446294],\n",
       "        [-0.15377566],\n",
       "        [-0.14997198],\n",
       "        [-0.23727392],\n",
       "        [ 0.05016565],\n",
       "        [-0.19063787],\n",
       "        [-0.06403689],\n",
       "        [-0.24064732],\n",
       "        [ 0.17277403],\n",
       "        [-0.07608208],\n",
       "        [-0.10414719],\n",
       "        [ 0.08903854],\n",
       "        [-0.06181091],\n",
       "        [ 0.05320577],\n",
       "        [-0.01266907],\n",
       "        [ 0.02157602],\n",
       "        [-0.1851329 ],\n",
       "        [-0.14605737],\n",
       "        [ 0.0244498 ],\n",
       "        [-0.19895582],\n",
       "        [-0.07465629],\n",
       "        [-0.6416123 ],\n",
       "        [-0.08511852],\n",
       "        [-0.2680991 ],\n",
       "        [ 0.22303294],\n",
       "        [ 0.15800287],\n",
       "        [ 0.2687916 ],\n",
       "        [-0.28702703],\n",
       "        [-0.0176439 ],\n",
       "        [-0.04406725],\n",
       "        [ 0.09397142],\n",
       "        [ 0.16869706],\n",
       "        [ 0.18048586],\n",
       "        [ 0.22818865],\n",
       "        [ 0.22562888],\n",
       "        [-0.49654275],\n",
       "        [ 0.26445597],\n",
       "        [-0.38130412],\n",
       "        [-0.0069742 ],\n",
       "        [-0.0763386 ],\n",
       "        [-0.34287912],\n",
       "        [-0.18715215],\n",
       "        [-0.13318834],\n",
       "        [-0.26982084],\n",
       "        [ 0.08493669],\n",
       "        [-0.27283326],\n",
       "        [-0.16698115],\n",
       "        [ 0.07749766],\n",
       "        [ 0.11453639],\n",
       "        [-0.21294123],\n",
       "        [-0.1245182 ],\n",
       "        [ 0.19950396]], dtype=float32),\n",
       " array([-0.31454286], dtype=float32)]"
      ]
     },
     "execution_count": 5,
     "metadata": {},
     "output_type": "execute_result"
    }
   ],
   "source": [
    "model.get_weights()"
   ]
  },
  {
   "cell_type": "code",
   "execution_count": 6,
   "metadata": {},
   "outputs": [],
   "source": [
    "## Step2 : Helper Functions \n",
    "#Funtion to decoder reviews \n",
    "def decode_review(encoded_review):\n",
    "    return ' '.join([reverse_word_index.get(i - 3,'?') for i in encoded_review ])\n",
    "\n",
    "## Function  to preprocess user input \n",
    "def preprocess_text(text): \n",
    "    words = text.lower().split()\n",
    "    encoded_review = [word_index.get(word,2)+3 for word in words ]\n",
    "    padded_review = sequence.pad_sequences([encoded_review],maxlen=500)\n",
    "    return padded_review"
   ]
  },
  {
   "cell_type": "code",
   "execution_count": 7,
   "metadata": {},
   "outputs": [],
   "source": [
    "## prediction function \n",
    "def predict_sentiment(review):\n",
    "    preprocessed_input = preprocess_text(review)\n",
    "    prediction= model.predict(preprocessed_input)\n",
    "\n",
    "    sentiment = 'positive' if prediction [0][0] > 0.5 else 'Negative'\n",
    "    return sentiment,prediction[0][0]"
   ]
  },
  {
   "cell_type": "code",
   "execution_count": 8,
   "metadata": {},
   "outputs": [
    {
     "name": "stdout",
     "output_type": "stream",
     "text": [
      "\u001b[1m1/1\u001b[0m \u001b[32m━━━━━━━━━━━━━━━━━━━━\u001b[0m\u001b[37m\u001b[0m \u001b[1m0s\u001b[0m 256ms/step\n",
      "Review:Thios movie was fantastic! The acting was great and the plot wes thrilling .\n",
      "Sentiment:Negative\n",
      "Prediction Score:0.40819841623306274\n"
     ]
    }
   ],
   "source": [
    "# Step 4: User input and prediction \n",
    "## Exampal review for prediction \n",
    "example_review =\"Thios movie was fantastic! The acting was great and the plot wes thrilling .\"\n",
    "\n",
    "sentiment,score = predict_sentiment(example_review)\n",
    "\n",
    "print(f'Review:{example_review}')\n",
    "print(f'Sentiment:{sentiment}')\n",
    "print(f'Prediction Score:{score}')"
   ]
  },
  {
   "cell_type": "code",
   "execution_count": null,
   "metadata": {},
   "outputs": [],
   "source": []
  },
  {
   "cell_type": "code",
   "execution_count": null,
   "metadata": {},
   "outputs": [],
   "source": []
  },
  {
   "cell_type": "code",
   "execution_count": null,
   "metadata": {},
   "outputs": [],
   "source": []
  },
  {
   "cell_type": "code",
   "execution_count": null,
   "metadata": {},
   "outputs": [],
   "source": []
  },
  {
   "cell_type": "code",
   "execution_count": null,
   "metadata": {},
   "outputs": [],
   "source": []
  }
 ],
 "metadata": {
  "kernelspec": {
   "display_name": "ann_project",
   "language": "python",
   "name": "python3"
  },
  "language_info": {
   "codemirror_mode": {
    "name": "ipython",
    "version": 3
   },
   "file_extension": ".py",
   "mimetype": "text/x-python",
   "name": "python",
   "nbconvert_exporter": "python",
   "pygments_lexer": "ipython3",
   "version": "3.11.10"
  }
 },
 "nbformat": 4,
 "nbformat_minor": 2
}
